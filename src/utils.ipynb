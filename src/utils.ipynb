{
 "cells": [
  {
   "cell_type": "code",
   "execution_count": 2,
   "metadata": {},
   "outputs": [
    {
     "name": "stdout",
     "output_type": "stream",
     "text": [
      "/home/tiantianyi/code/public-sentiment-analysis/data/processed/train.csv processed.\n",
      "/home/tiantianyi/code/public-sentiment-analysis/data/processed/test.csv processed.\n"
     ]
    }
   ],
   "source": [
    "import pandas as pd\n",
    "\n",
    "def process(file):\n",
    "    df = pd.read_csv(file)\n",
    "    df.insert(0, '序号', range(len(df)))\n",
    "    df.to_csv(file, index=False)\n",
    "    \n",
    "if __name__ == '__main__':\n",
    "    files = ['/home/tiantianyi/code/public-sentiment-analysis/data/processed/train.csv', '/home/tiantianyi/code/public-sentiment-analysis/data/processed/test.csv']\n",
    "    for file in files:\n",
    "        process(file)\n",
    "        print(f'{file} processed.')"
   ]
  },
  {
   "cell_type": "code",
   "execution_count": 5,
   "metadata": {},
   "outputs": [],
   "source": [
    "import pandas as pd\n",
    "\n",
    "# 读取原始数据\n",
    "input_file = \"/home/tiantianyi/code/public-sentiment-analysis/data/processed/train.csv\"\n",
    "df = pd.read_csv(input_file)\n",
    "\n",
    "# 拼接 text 和 target\n",
    "df['text'] = df['text'] + \" [SEP] target: \" + df['target']\n",
    "\n",
    "# 保存到新的 CSV 文件\n",
    "output_file = \"/home/tiantianyi/code/public-sentiment-analysis/data/test/train.csv\"\n",
    "df.to_csv(output_file, index=False)"
   ]
  }
 ],
 "metadata": {
  "kernelspec": {
   "display_name": "nlp",
   "language": "python",
   "name": "python3"
  },
  "language_info": {
   "codemirror_mode": {
    "name": "ipython",
    "version": 3
   },
   "file_extension": ".py",
   "mimetype": "text/x-python",
   "name": "python",
   "nbconvert_exporter": "python",
   "pygments_lexer": "ipython3",
   "version": "3.12.8"
  }
 },
 "nbformat": 4,
 "nbformat_minor": 2
}
